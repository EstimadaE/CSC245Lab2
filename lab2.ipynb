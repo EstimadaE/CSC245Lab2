{
 "cells": [
  {
   "cell_type": "code",
   "execution_count": null,
   "metadata": {},
   "outputs": [],
   "source": [
    "import pandas as pd\n",
    "i = pd.Series([1,2,3,4])\n",
    "print i\n",
    "\n"
   ]
  },
  {
   "cell_type": "markdown",
   "metadata": {},
   "source": [
    "import pandas as pd\n",
    "i = pd.Series([1,2,3,4])\n",
    "i.toList()"
   ]
  },
  {
   "cell_type": "markdown",
   "metadata": {},
   "source": [
    "ds1 = pd.Series([2,4,6,8,10])\n",
    "ds2 = pd.Series([1, 3, 5, 7, 9])\n",
    "dsAdd = ds1 + ds2\n",
    "dsSub =  ds1 - ds2\n",
    "dsDiv = ds1/ds2\n",
    "dsMult = ds1*ds2\n",
    "\n"
   ]
  },
  {
   "cell_type": "markdown",
   "metadata": {},
   "source": [
    "# assume d is a dictionary\n",
    "toSeries = pd.Series(d)\n"
   ]
  },
  {
   "cell_type": "markdown",
   "metadata": {},
   "source": [
    "# 6\n",
    "array = np.array([1,2,3,4])\n",
    "series = pd.Series(array)"
   ]
  },
  {
   "cell_type": "markdown",
   "metadata": {},
   "source": [
    "# s - series\n",
    "pd.to_numeric(s)\n"
   ]
  },
  {
   "cell_type": "markdown",
   "metadata": {},
   "source": [
    "s1 = df.['col1']"
   ]
  },
  {
   "cell_type": "markdown",
   "metadata": {},
   "source": [
    "series = pd.Series([1,2])\n",
    "\n",
    "a = series.values"
   ]
  },
  {
   "cell_type": "markdown",
   "metadata": {},
   "source": [
    "# 10\n",
    "# d = dictionary\n",
    "\n",
    "df = pd.Dataframe(d.items)\n",
    "\n",
    "print(df)\n"
   ]
  },
  {
   "cell_type": "markdown",
   "metadata": {},
   "source": [
    "# d = dictionary\n",
    "\n",
    "df = pd.DataFrame(dict)\n",
    "\n",
    "print df\n"
   ]
  },
  {
   "cell_type": "markdown",
   "metadata": {},
   "source": [
    "# 13\n",
    "df = pd.DataFrame(exam_data, index=labels)\n",
    "print(df.info())\n",
    "\n"
   ]
  },
  {
   "cell_type": "markdown",
   "metadata": {},
   "source": [
    "# 14\n",
    "df1 = df.head(3)\n"
   ]
  },
  {
   "cell_type": "markdown",
   "metadata": {},
   "source": [
    "# 15\n",
    "t = exam_data[\"name\",\"score\"]\n"
   ]
  },
  {
   "cell_type": "markdown",
   "metadata": {},
   "source": [
    "# 16\n",
    "\n",
    "t = df.iloc[[1,3,5,6],[1,3]]\n",
    "\n",
    "\n"
   ]
  },
  {
   "cell_type": "markdown",
   "metadata": {},
   "source": [
    "# 17\n",
    "\n",
    "t = (df[df[attempts']] > 2)\n"
   ]
  },
  {
   "cell_type": "markdown",
   "metadata": {},
   "source": [
    "# 18\n",
    "\n",
    "rows = len(df)\n",
    "columns = len(df.columns)\n"
   ]
  },
  {
   "cell_type": "markdown",
   "metadata": {},
   "source": [
    "# 19\n",
    "\n",
    "t = df[df['score']isnull()]"
   ]
  },
  {
   "cell_type": "markdown",
   "metadata": {},
   "source": [
    "t = df[df['score].between(15,20)]"
   ]
  }
 ],
 "metadata": {
  "language_info": {
   "name": "python"
  }
 },
 "nbformat": 4,
 "nbformat_minor": 2
}
